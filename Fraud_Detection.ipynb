{
  "nbformat": 4,
  "nbformat_minor": 0,
  "metadata": {
    "colab": {
      "provenance": []
    },
    "kernelspec": {
      "name": "python3",
      "display_name": "Python 3"
    },
    "language_info": {
      "name": "python"
    }
  },
  "cells": [
    {
      "cell_type": "code",
      "execution_count": null,
      "metadata": {
        "colab": {
          "base_uri": "https://localhost:8080/"
        },
        "id": "7FyurA-w86NB",
        "outputId": "15924b98-d8bf-4ff4-d9c5-958d05d07967"
      },
      "outputs": [
        {
          "output_type": "stream",
          "name": "stdout",
          "text": [
            "Confusion Matrix:\n",
            "[[1 0]\n",
            " [0 1]]\n",
            "\n",
            "Classification Report:\n",
            "              precision    recall  f1-score   support\n",
            "\n",
            "           0       1.00      1.00      1.00         1\n",
            "           1       1.00      1.00      1.00         1\n",
            "\n",
            "    accuracy                           1.00         2\n",
            "   macro avg       1.00      1.00      1.00         2\n",
            "weighted avg       1.00      1.00      1.00         2\n",
            "\n"
          ]
        }
      ],
      "source": [
        "# Import necessary libraries\n",
        "import pandas as pd\n",
        "from sklearn.model_selection import train_test_split\n",
        "from sklearn.svm import SVC\n",
        "from sklearn.preprocessing import StandardScaler\n",
        "from sklearn.metrics import classification_report, confusion_matrix\n",
        "\n",
        "# Assuming you have a dataset where 'X' contains the features and 'y' contains the labels (0 for legitimate, 1 for fraudulent)\n",
        "# Replace this with your actual dataset loading code\n",
        "# Example:\n",
        "# df = pd.read_csv('your_dataset.csv')\n",
        "# X = df.drop('label_column', axis=1)  # Features\n",
        "# y = df['label_column']  # Labels\n",
        "\n",
        "# Generate some sample data for demonstration\n",
        "data = {\n",
        "    'amount': [10.00, 20.00, 30.00, 40.00, 50.00, 60.00, 70.00, 80.00],\n",
        "    'location': ['US', 'CA', 'US', 'US', 'CA', 'US', 'CA', 'US'],\n",
        "    'time_of_day': ['morning', 'afternoon', 'evening', 'morning', 'afternoon', 'evening', 'morning', 'afternoon'],\n",
        "    'label': [0, 1, 0, 0, 1, 0, 1, 0]  # 0 - legitimate, 1 - fraudulent\n",
        "}\n",
        "df = pd.DataFrame(data)\n",
        "X = df.drop('label', axis=1)\n",
        "y = df['label']\n",
        "\n",
        "# Convert categorical variables into dummy/indicator variables\n",
        "X = pd.get_dummies(X, columns=['location', 'time_of_day'])\n",
        "\n",
        "# Split data into training and testing sets\n",
        "X_train, X_test, y_train, y_test = train_test_split(X, y, test_size=0.2, random_state=0)\n",
        "\n",
        "# Feature scaling for optimal performance of SVC\n",
        "sc = StandardScaler()\n",
        "X_train = sc.fit_transform(X_train)\n",
        "X_test = sc.transform(X_test)\n",
        "\n",
        "# Initialize SVC classifier\n",
        "classifier = SVC(kernel='linear', random_state=0)\n",
        "\n",
        "# Train the classifier\n",
        "classifier.fit(X_train, y_train)\n",
        "\n",
        "# Predictions on the test set\n",
        "y_pred = classifier.predict(X_test)\n",
        "\n",
        "# Evaluating the model\n",
        "print(\"Confusion Matrix:\")\n",
        "print(confusion_matrix(y_test, y_pred))\n",
        "print(\"\\nClassification Report:\")\n",
        "print(classification_report(y_test, y_pred))\n"
      ]
    },
    {
      "cell_type": "code",
      "source": [
        "# Import necessary libraries\n",
        "import pandas as pd\n",
        "from sklearn.model_selection import train_test_split\n",
        "from sklearn.ensemble import RandomForestClassifier\n",
        "from sklearn.metrics import classification_report, confusion_matrix, accuracy_score\n",
        "\n",
        "# Assuming you have a dataset where 'X' contains the features and 'y' contains the labels (0 for legitimate, 1 for fraudulent)\n",
        "# Replace this with your actual dataset loading code\n",
        "# Example:\n",
        "df = pd.read_csv('/content/sample_data/onlinefraud.csv')\n",
        "# X = df.drop('label_column', axis=1)  # Features\n",
        "# y = df['label_column']  # Labels\n",
        "\n",
        "# Generate some sample data for demonstration\n",
        "data = {\n",
        "    'amount': [10.00, 20.00, 30.00, 40.00, 50.00, 60.00, 70.00, 80.00],\n",
        "    'location': ['US', 'CA', 'US', 'US', 'CA', 'US', 'CA', 'US'],\n",
        "    'time_of_day': ['morning', 'afternoon', 'evening', 'morning', 'afternoon', 'evening', 'morning', 'afternoon'],\n",
        "    'label': [0, 1, 0, 0, 1, 0, 1, 0]  # 0 - legitimate, 1 - fraudulent\n",
        "}\n",
        "df = pd.DataFrame(data)\n",
        "X = df.drop('label', axis=1)\n",
        "y = df['label']\n",
        "\n",
        "# Convert categorical variables into dummy/indicator variables\n",
        "X = pd.get_dummies(X, columns=['location', 'time_of_day'])\n",
        "\n",
        "# Split data into training and testing sets\n",
        "X_train, X_test, y_train, y_test = train_test_split(X, y, test_size=0.2, random_state=0)\n",
        "\n",
        "# Initialize RandomForestClassifier\n",
        "classifier = RandomForestClassifier(n_estimators=100, random_state=0)\n",
        "\n",
        "# Train the classifier\n",
        "classifier.fit(X_train, y_train)\n",
        "\n",
        "# Predictions on the test set\n",
        "y_pred = classifier.predict(X_test)\n",
        "\n",
        "# Evaluating the model\n",
        "print(\"Confusion Matrix:\")\n",
        "print(confusion_matrix(y_test, y_pred))\n",
        "print(\"\\nClassification Report:\")\n",
        "print(classification_report(y_test, y_pred))\n",
        "print(\"\\nAccuracy Score:\", accuracy_score(y_test, y_pred))\n"
      ],
      "metadata": {
        "colab": {
          "base_uri": "https://localhost:8080/"
        },
        "id": "QQS5A8M_BA10",
        "outputId": "632da314-ac46-48cc-c97f-cc9a242d4855"
      },
      "execution_count": 2,
      "outputs": [
        {
          "output_type": "stream",
          "name": "stdout",
          "text": [
            "Confusion Matrix:\n",
            "[[1 0]\n",
            " [0 1]]\n",
            "\n",
            "Classification Report:\n",
            "              precision    recall  f1-score   support\n",
            "\n",
            "           0       1.00      1.00      1.00         1\n",
            "           1       1.00      1.00      1.00         1\n",
            "\n",
            "    accuracy                           1.00         2\n",
            "   macro avg       1.00      1.00      1.00         2\n",
            "weighted avg       1.00      1.00      1.00         2\n",
            "\n",
            "\n",
            "Accuracy Score: 1.0\n"
          ]
        }
      ]
    },
    {
      "cell_type": "code",
      "source": [
        "# Import necessary libraries\n",
        "import pandas as pd\n",
        "from sklearn.model_selection import train_test_split\n",
        "from sklearn.linear_model import LogisticRegression\n",
        "from sklearn.preprocessing import StandardScaler\n",
        "from sklearn.metrics import classification_report, confusion_matrix\n",
        "\n",
        "# Assuming you have a dataset where 'X' contains the features and 'y' contains the labels (0 for legitimate, 1 for fraudulent)\n",
        "# Replace this with your actual dataset loading code\n",
        "# Example:\n",
        "df = pd.read_csv('/content/sample_data/onlinefraud.csv')\n",
        "# X = df.drop('label_column', axis=1)  # Features\n",
        "# y = df['label_column']  # Labels\n",
        "\n",
        "# Generate some sample data for demonstration\n",
        "data = {\n",
        "    'amount': [10.00, 20.00, 30.00, 40.00, 50.00, 60.00, 70.00, 80.00],\n",
        "    'location': ['US', 'CA', 'US', 'US', 'CA', 'US', 'CA', 'US'],\n",
        "    'time_of_day': ['morning', 'afternoon', 'evening', 'morning', 'afternoon', 'evening', 'morning', 'afternoon'],\n",
        "    'label': [0, 1, 0, 0, 1, 0, 1, 0]  # 0 - legitimate, 1 - fraudulent\n",
        "}\n",
        "df = pd.DataFrame(data)\n",
        "X = df.drop('label', axis=1)\n",
        "y = df['label']\n",
        "\n",
        "# Convert categorical variables into dummy/indicator variables\n",
        "X = pd.get_dummies(X, columns=['location', 'time_of_day'])\n",
        "\n",
        "# Split data into training and testing sets\n",
        "X_train, X_test, y_train, y_test = train_test_split(X, y, test_size=0.2, random_state=0)\n",
        "\n",
        "# Feature scaling for optimal performance of Logistic Regression\n",
        "sc = StandardScaler()\n",
        "X_train = sc.fit_transform(X_train)\n",
        "X_test = sc.transform(X_test)\n",
        "\n",
        "# Initialize Logistic Regression classifier\n",
        "classifier = LogisticRegression(random_state=0)\n",
        "\n",
        "# Train the classifier\n",
        "classifier.fit(X_train, y_train)\n",
        "\n",
        "# Predictions on the test set\n",
        "y_pred = classifier.predict(X_test)\n",
        "\n",
        "# Evaluating the model\n",
        "print(\"Confusion Matrix:\")\n",
        "print(confusion_matrix(y_test, y_pred))\n",
        "print(\"\\nClassification Report:\")\n",
        "print(classification_report(y_test, y_pred))\n"
      ],
      "metadata": {
        "colab": {
          "base_uri": "https://localhost:8080/"
        },
        "id": "lKH4fcqMLCuX",
        "outputId": "9b51a121-4f2a-4ea8-b684-6da288845906"
      },
      "execution_count": 1,
      "outputs": [
        {
          "output_type": "stream",
          "name": "stdout",
          "text": [
            "Confusion Matrix:\n",
            "[[1 0]\n",
            " [1 0]]\n",
            "\n",
            "Classification Report:\n",
            "              precision    recall  f1-score   support\n",
            "\n",
            "           0       0.50      1.00      0.67         1\n",
            "           1       0.00      0.00      0.00         1\n",
            "\n",
            "    accuracy                           0.50         2\n",
            "   macro avg       0.25      0.50      0.33         2\n",
            "weighted avg       0.25      0.50      0.33         2\n",
            "\n"
          ]
        },
        {
          "output_type": "stream",
          "name": "stderr",
          "text": [
            "/usr/local/lib/python3.10/dist-packages/sklearn/metrics/_classification.py:1344: UndefinedMetricWarning: Precision and F-score are ill-defined and being set to 0.0 in labels with no predicted samples. Use `zero_division` parameter to control this behavior.\n",
            "  _warn_prf(average, modifier, msg_start, len(result))\n",
            "/usr/local/lib/python3.10/dist-packages/sklearn/metrics/_classification.py:1344: UndefinedMetricWarning: Precision and F-score are ill-defined and being set to 0.0 in labels with no predicted samples. Use `zero_division` parameter to control this behavior.\n",
            "  _warn_prf(average, modifier, msg_start, len(result))\n",
            "/usr/local/lib/python3.10/dist-packages/sklearn/metrics/_classification.py:1344: UndefinedMetricWarning: Precision and F-score are ill-defined and being set to 0.0 in labels with no predicted samples. Use `zero_division` parameter to control this behavior.\n",
            "  _warn_prf(average, modifier, msg_start, len(result))\n"
          ]
        }
      ]
    }
  ]
}